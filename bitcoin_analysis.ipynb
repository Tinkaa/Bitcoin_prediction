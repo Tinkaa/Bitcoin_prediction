{
 "cells": [
  {
   "cell_type": "code",
   "execution_count": 95,
   "metadata": {
    "colab": {
     "autoexec": {
      "startup": false,
      "wait_interval": 0
     }
    },
    "colab_type": "code",
    "id": "QsibEgfUi6Z6"
   },
   "outputs": [
    {
     "data": {
      "text/html": [
       "<style>.container { width:100% !important; }</style>"
      ],
      "text/plain": [
       "<IPython.core.display.HTML object>"
      ]
     },
     "metadata": {},
     "output_type": "display_data"
    }
   ],
   "source": [
    "from IPython.core.display import display, HTML\n",
    "display(HTML(\"<style>.container { width:100% !important; }</style>\"))\\\n",
    "\n",
    "import numpy as np\n",
    "import pandas as pd\n",
    "import GPy\n",
    "try:\n",
    "    from google.colab import files\n",
    "    uploaded = files.upload()\n",
    "except ImportError:\n",
    "    pass\n",
    "    \n",
    "from matplotlib import pyplot as plt\n",
    "    \n",
    "%matplotlib inline"
   ]
  },
  {
   "cell_type": "code",
   "execution_count": 56,
   "metadata": {
    "colab": {
     "autoexec": {
      "startup": false,
      "wait_interval": 0
     }
    },
    "colab_type": "code",
    "id": "joZgR1oRi6aI"
   },
   "outputs": [],
   "source": [
    "df=pd.read_csv('bitcoin_20172018april.csv')"
   ]
  },
  {
   "cell_type": "code",
   "execution_count": 57,
   "metadata": {
    "colab": {
     "autoexec": {
      "startup": false,
      "wait_interval": 0
     },
     "base_uri": "https://localhost:8080/",
     "height": 53
    },
    "colab_type": "code",
    "executionInfo": {
     "elapsed": 502,
     "status": "ok",
     "timestamp": 1523363756384,
     "user": {
      "displayName": "Tinka Valentijn",
      "photoUrl": "https://lh3.googleusercontent.com/a/default-user=s128",
      "userId": "103398039201010540137"
     },
     "user_tz": -180
    },
    "id": "OnzDfPn8i6aQ",
    "outputId": "42f78e95-7893-4c4a-a017-73141cdef2cd"
   },
   "outputs": [
    {
     "name": "stderr",
     "output_type": "stream",
     "text": [
      "/m/home/home2/27/holopaj7/unix/Envs/CS-Major/lib/python3.5/site-packages/ipykernel_launcher.py:4: FutureWarning: to_datetime is deprecated. Use pd.to_datetime(...)\n",
      "  after removing the cwd from sys.path.\n"
     ]
    }
   ],
   "source": [
    "df=df[:-2]\n",
    "df[\"Dataindex\"] = df.index                        ## Keep index, could be usefull\n",
    "df.index=df.Date    \n",
    "df.index=df.index.to_datetime()\n",
    "df=df.drop(columns=['Date'])"
   ]
  },
  {
   "cell_type": "code",
   "execution_count": 60,
   "metadata": {
    "colab": {
     "autoexec": {
      "startup": false,
      "wait_interval": 0
     },
     "base_uri": "https://localhost:8080/",
     "height": 1992
    },
    "colab_type": "code",
    "executionInfo": {
     "elapsed": 544,
     "status": "ok",
     "timestamp": 1523363757678,
     "user": {
      "displayName": "Tinka Valentijn",
      "photoUrl": "https://lh3.googleusercontent.com/a/default-user=s128",
      "userId": "103398039201010540137"
     },
     "user_tz": -180
    },
    "id": "o2EWnHVri6ao",
    "outputId": "57a6d6ce-ab26-4bea-d809-fd0e640b3ac6"
   },
   "outputs": [
    {
     "data": {
      "text/html": [
       "<div>\n",
       "<style scoped>\n",
       "    .dataframe tbody tr th:only-of-type {\n",
       "        vertical-align: middle;\n",
       "    }\n",
       "\n",
       "    .dataframe tbody tr th {\n",
       "        vertical-align: top;\n",
       "    }\n",
       "\n",
       "    .dataframe thead th {\n",
       "        text-align: right;\n",
       "    }\n",
       "</style>\n",
       "<table border=\"1\" class=\"dataframe\">\n",
       "  <thead>\n",
       "    <tr style=\"text-align: right;\">\n",
       "      <th></th>\n",
       "      <th>Close Price</th>\n",
       "      <th>Dataindex</th>\n",
       "      <th>Weekday</th>\n",
       "    </tr>\n",
       "  </thead>\n",
       "  <tbody>\n",
       "    <tr>\n",
       "      <th>2017-04-10 00:00:00</th>\n",
       "      <td>1213.34</td>\n",
       "      <td>0</td>\n",
       "      <td>0</td>\n",
       "    </tr>\n",
       "    <tr>\n",
       "      <th>2017-04-11 00:00:00</th>\n",
       "      <td>1224.77</td>\n",
       "      <td>1</td>\n",
       "      <td>1</td>\n",
       "    </tr>\n",
       "    <tr>\n",
       "      <th>2017-04-12 00:00:00</th>\n",
       "      <td>1216.50</td>\n",
       "      <td>2</td>\n",
       "      <td>2</td>\n",
       "    </tr>\n",
       "    <tr>\n",
       "      <th>2017-04-13 00:00:00</th>\n",
       "      <td>1178.53</td>\n",
       "      <td>3</td>\n",
       "      <td>3</td>\n",
       "    </tr>\n",
       "    <tr>\n",
       "      <th>2017-04-14 00:00:00</th>\n",
       "      <td>1183.44</td>\n",
       "      <td>4</td>\n",
       "      <td>4</td>\n",
       "    </tr>\n",
       "    <tr>\n",
       "      <th>2017-04-15 00:00:00</th>\n",
       "      <td>1180.70</td>\n",
       "      <td>5</td>\n",
       "      <td>5</td>\n",
       "    </tr>\n",
       "    <tr>\n",
       "      <th>2017-04-16 00:00:00</th>\n",
       "      <td>1184.79</td>\n",
       "      <td>6</td>\n",
       "      <td>6</td>\n",
       "    </tr>\n",
       "    <tr>\n",
       "      <th>2017-04-17 00:00:00</th>\n",
       "      <td>1203.73</td>\n",
       "      <td>7</td>\n",
       "      <td>0</td>\n",
       "    </tr>\n",
       "    <tr>\n",
       "      <th>2017-04-18 00:00:00</th>\n",
       "      <td>1217.60</td>\n",
       "      <td>8</td>\n",
       "      <td>1</td>\n",
       "    </tr>\n",
       "    <tr>\n",
       "      <th>2017-04-19 00:00:00</th>\n",
       "      <td>1226.94</td>\n",
       "      <td>9</td>\n",
       "      <td>2</td>\n",
       "    </tr>\n",
       "    <tr>\n",
       "      <th>2017-04-20 00:00:00</th>\n",
       "      <td>1255.40</td>\n",
       "      <td>10</td>\n",
       "      <td>3</td>\n",
       "    </tr>\n",
       "    <tr>\n",
       "      <th>2017-04-21 00:00:00</th>\n",
       "      <td>1257.13</td>\n",
       "      <td>11</td>\n",
       "      <td>4</td>\n",
       "    </tr>\n",
       "    <tr>\n",
       "      <th>2017-04-22 00:00:00</th>\n",
       "      <td>1244.37</td>\n",
       "      <td>12</td>\n",
       "      <td>5</td>\n",
       "    </tr>\n",
       "    <tr>\n",
       "      <th>2017-04-23 00:00:00</th>\n",
       "      <td>1248.22</td>\n",
       "      <td>13</td>\n",
       "      <td>6</td>\n",
       "    </tr>\n",
       "    <tr>\n",
       "      <th>2017-04-24 00:00:00</th>\n",
       "      <td>1248.32</td>\n",
       "      <td>14</td>\n",
       "      <td>0</td>\n",
       "    </tr>\n",
       "    <tr>\n",
       "      <th>2017-04-25 00:00:00</th>\n",
       "      <td>1263.54</td>\n",
       "      <td>15</td>\n",
       "      <td>1</td>\n",
       "    </tr>\n",
       "    <tr>\n",
       "      <th>2017-04-26 00:00:00</th>\n",
       "      <td>1284.84</td>\n",
       "      <td>16</td>\n",
       "      <td>2</td>\n",
       "    </tr>\n",
       "    <tr>\n",
       "      <th>2017-04-27 00:00:00</th>\n",
       "      <td>1329.19</td>\n",
       "      <td>17</td>\n",
       "      <td>3</td>\n",
       "    </tr>\n",
       "    <tr>\n",
       "      <th>2017-04-28 00:00:00</th>\n",
       "      <td>1320.05</td>\n",
       "      <td>18</td>\n",
       "      <td>4</td>\n",
       "    </tr>\n",
       "    <tr>\n",
       "      <th>2017-04-29 00:00:00</th>\n",
       "      <td>1327.04</td>\n",
       "      <td>19</td>\n",
       "      <td>5</td>\n",
       "    </tr>\n",
       "    <tr>\n",
       "      <th>2017-04-30 00:00:00</th>\n",
       "      <td>1347.96</td>\n",
       "      <td>20</td>\n",
       "      <td>6</td>\n",
       "    </tr>\n",
       "    <tr>\n",
       "      <th>2017-05-01 00:00:00</th>\n",
       "      <td>1402.08</td>\n",
       "      <td>21</td>\n",
       "      <td>0</td>\n",
       "    </tr>\n",
       "    <tr>\n",
       "      <th>2017-05-02 00:00:00</th>\n",
       "      <td>1443.68</td>\n",
       "      <td>22</td>\n",
       "      <td>1</td>\n",
       "    </tr>\n",
       "    <tr>\n",
       "      <th>2017-05-03 00:00:00</th>\n",
       "      <td>1492.00</td>\n",
       "      <td>23</td>\n",
       "      <td>2</td>\n",
       "    </tr>\n",
       "    <tr>\n",
       "      <th>2017-05-04 00:00:00</th>\n",
       "      <td>1515.63</td>\n",
       "      <td>24</td>\n",
       "      <td>3</td>\n",
       "    </tr>\n",
       "    <tr>\n",
       "      <th>2017-05-05 00:00:00</th>\n",
       "      <td>1512.21</td>\n",
       "      <td>25</td>\n",
       "      <td>4</td>\n",
       "    </tr>\n",
       "    <tr>\n",
       "      <th>2017-05-06 00:00:00</th>\n",
       "      <td>1548.29</td>\n",
       "      <td>26</td>\n",
       "      <td>5</td>\n",
       "    </tr>\n",
       "    <tr>\n",
       "      <th>2017-05-07 00:00:00</th>\n",
       "      <td>1555.47</td>\n",
       "      <td>27</td>\n",
       "      <td>6</td>\n",
       "    </tr>\n",
       "    <tr>\n",
       "      <th>2017-05-08 00:00:00</th>\n",
       "      <td>1639.32</td>\n",
       "      <td>28</td>\n",
       "      <td>0</td>\n",
       "    </tr>\n",
       "    <tr>\n",
       "      <th>2017-05-09 00:00:00</th>\n",
       "      <td>1706.93</td>\n",
       "      <td>29</td>\n",
       "      <td>1</td>\n",
       "    </tr>\n",
       "    <tr>\n",
       "      <th>...</th>\n",
       "      <td>...</td>\n",
       "      <td>...</td>\n",
       "      <td>...</td>\n",
       "    </tr>\n",
       "    <tr>\n",
       "      <th>2018-03-12 00:00:00</th>\n",
       "      <td>9118.27</td>\n",
       "      <td>336</td>\n",
       "      <td>0</td>\n",
       "    </tr>\n",
       "    <tr>\n",
       "      <th>2018-03-13 00:00:00</th>\n",
       "      <td>9144.15</td>\n",
       "      <td>337</td>\n",
       "      <td>1</td>\n",
       "    </tr>\n",
       "    <tr>\n",
       "      <th>2018-03-14 00:00:00</th>\n",
       "      <td>8196.90</td>\n",
       "      <td>338</td>\n",
       "      <td>2</td>\n",
       "    </tr>\n",
       "    <tr>\n",
       "      <th>2018-03-15 00:00:00</th>\n",
       "      <td>8256.99</td>\n",
       "      <td>339</td>\n",
       "      <td>3</td>\n",
       "    </tr>\n",
       "    <tr>\n",
       "      <th>2018-03-16 00:00:00</th>\n",
       "      <td>8269.33</td>\n",
       "      <td>340</td>\n",
       "      <td>4</td>\n",
       "    </tr>\n",
       "    <tr>\n",
       "      <th>2018-03-17 00:00:00</th>\n",
       "      <td>7862.11</td>\n",
       "      <td>341</td>\n",
       "      <td>5</td>\n",
       "    </tr>\n",
       "    <tr>\n",
       "      <th>2018-03-18 00:00:00</th>\n",
       "      <td>8196.02</td>\n",
       "      <td>342</td>\n",
       "      <td>6</td>\n",
       "    </tr>\n",
       "    <tr>\n",
       "      <th>2018-03-19 00:00:00</th>\n",
       "      <td>8594.19</td>\n",
       "      <td>343</td>\n",
       "      <td>0</td>\n",
       "    </tr>\n",
       "    <tr>\n",
       "      <th>2018-03-20 00:00:00</th>\n",
       "      <td>8915.90</td>\n",
       "      <td>344</td>\n",
       "      <td>1</td>\n",
       "    </tr>\n",
       "    <tr>\n",
       "      <th>2018-03-21 00:00:00</th>\n",
       "      <td>8895.40</td>\n",
       "      <td>345</td>\n",
       "      <td>2</td>\n",
       "    </tr>\n",
       "    <tr>\n",
       "      <th>2018-03-22 00:00:00</th>\n",
       "      <td>8712.89</td>\n",
       "      <td>346</td>\n",
       "      <td>3</td>\n",
       "    </tr>\n",
       "    <tr>\n",
       "      <th>2018-03-23 00:00:00</th>\n",
       "      <td>8918.74</td>\n",
       "      <td>347</td>\n",
       "      <td>4</td>\n",
       "    </tr>\n",
       "    <tr>\n",
       "      <th>2018-03-24 00:00:00</th>\n",
       "      <td>8535.89</td>\n",
       "      <td>348</td>\n",
       "      <td>5</td>\n",
       "    </tr>\n",
       "    <tr>\n",
       "      <th>2018-03-25 00:00:00</th>\n",
       "      <td>8449.83</td>\n",
       "      <td>349</td>\n",
       "      <td>6</td>\n",
       "    </tr>\n",
       "    <tr>\n",
       "      <th>2018-03-26 00:00:00</th>\n",
       "      <td>8138.34</td>\n",
       "      <td>350</td>\n",
       "      <td>0</td>\n",
       "    </tr>\n",
       "    <tr>\n",
       "      <th>2018-03-27 00:00:00</th>\n",
       "      <td>7790.16</td>\n",
       "      <td>351</td>\n",
       "      <td>1</td>\n",
       "    </tr>\n",
       "    <tr>\n",
       "      <th>2018-03-28 00:00:00</th>\n",
       "      <td>7937.20</td>\n",
       "      <td>352</td>\n",
       "      <td>2</td>\n",
       "    </tr>\n",
       "    <tr>\n",
       "      <th>2018-03-29 00:00:00</th>\n",
       "      <td>7086.49</td>\n",
       "      <td>353</td>\n",
       "      <td>3</td>\n",
       "    </tr>\n",
       "    <tr>\n",
       "      <th>2018-03-30 00:00:00</th>\n",
       "      <td>6844.32</td>\n",
       "      <td>354</td>\n",
       "      <td>4</td>\n",
       "    </tr>\n",
       "    <tr>\n",
       "      <th>2018-03-31 00:00:00</th>\n",
       "      <td>6926.02</td>\n",
       "      <td>355</td>\n",
       "      <td>5</td>\n",
       "    </tr>\n",
       "    <tr>\n",
       "      <th>2018-04-01 00:00:00</th>\n",
       "      <td>6816.74</td>\n",
       "      <td>356</td>\n",
       "      <td>6</td>\n",
       "    </tr>\n",
       "    <tr>\n",
       "      <th>2018-04-02 00:00:00</th>\n",
       "      <td>7049.79</td>\n",
       "      <td>357</td>\n",
       "      <td>0</td>\n",
       "    </tr>\n",
       "    <tr>\n",
       "      <th>2018-04-03 00:00:00</th>\n",
       "      <td>7417.89</td>\n",
       "      <td>358</td>\n",
       "      <td>1</td>\n",
       "    </tr>\n",
       "    <tr>\n",
       "      <th>2018-04-04 00:00:00</th>\n",
       "      <td>6789.30</td>\n",
       "      <td>359</td>\n",
       "      <td>2</td>\n",
       "    </tr>\n",
       "    <tr>\n",
       "      <th>2018-04-05 00:00:00</th>\n",
       "      <td>6774.75</td>\n",
       "      <td>360</td>\n",
       "      <td>3</td>\n",
       "    </tr>\n",
       "    <tr>\n",
       "      <th>2018-04-06 00:00:00</th>\n",
       "      <td>6620.41</td>\n",
       "      <td>361</td>\n",
       "      <td>4</td>\n",
       "    </tr>\n",
       "    <tr>\n",
       "      <th>2018-04-07 00:00:00</th>\n",
       "      <td>6896.28</td>\n",
       "      <td>362</td>\n",
       "      <td>5</td>\n",
       "    </tr>\n",
       "    <tr>\n",
       "      <th>2018-04-08 00:00:00</th>\n",
       "      <td>7022.71</td>\n",
       "      <td>363</td>\n",
       "      <td>6</td>\n",
       "    </tr>\n",
       "    <tr>\n",
       "      <th>2018-04-09 00:00:00</th>\n",
       "      <td>6773.94</td>\n",
       "      <td>364</td>\n",
       "      <td>0</td>\n",
       "    </tr>\n",
       "    <tr>\n",
       "      <th>2018-04-10 12:04:00</th>\n",
       "      <td>6735.08</td>\n",
       "      <td>365</td>\n",
       "      <td>1</td>\n",
       "    </tr>\n",
       "  </tbody>\n",
       "</table>\n",
       "<p>366 rows × 3 columns</p>\n",
       "</div>"
      ],
      "text/plain": [
       "                     Close Price  Dataindex  Weekday\n",
       "2017-04-10 00:00:00      1213.34          0        0\n",
       "2017-04-11 00:00:00      1224.77          1        1\n",
       "2017-04-12 00:00:00      1216.50          2        2\n",
       "2017-04-13 00:00:00      1178.53          3        3\n",
       "2017-04-14 00:00:00      1183.44          4        4\n",
       "2017-04-15 00:00:00      1180.70          5        5\n",
       "2017-04-16 00:00:00      1184.79          6        6\n",
       "2017-04-17 00:00:00      1203.73          7        0\n",
       "2017-04-18 00:00:00      1217.60          8        1\n",
       "2017-04-19 00:00:00      1226.94          9        2\n",
       "2017-04-20 00:00:00      1255.40         10        3\n",
       "2017-04-21 00:00:00      1257.13         11        4\n",
       "2017-04-22 00:00:00      1244.37         12        5\n",
       "2017-04-23 00:00:00      1248.22         13        6\n",
       "2017-04-24 00:00:00      1248.32         14        0\n",
       "2017-04-25 00:00:00      1263.54         15        1\n",
       "2017-04-26 00:00:00      1284.84         16        2\n",
       "2017-04-27 00:00:00      1329.19         17        3\n",
       "2017-04-28 00:00:00      1320.05         18        4\n",
       "2017-04-29 00:00:00      1327.04         19        5\n",
       "2017-04-30 00:00:00      1347.96         20        6\n",
       "2017-05-01 00:00:00      1402.08         21        0\n",
       "2017-05-02 00:00:00      1443.68         22        1\n",
       "2017-05-03 00:00:00      1492.00         23        2\n",
       "2017-05-04 00:00:00      1515.63         24        3\n",
       "2017-05-05 00:00:00      1512.21         25        4\n",
       "2017-05-06 00:00:00      1548.29         26        5\n",
       "2017-05-07 00:00:00      1555.47         27        6\n",
       "2017-05-08 00:00:00      1639.32         28        0\n",
       "2017-05-09 00:00:00      1706.93         29        1\n",
       "...                          ...        ...      ...\n",
       "2018-03-12 00:00:00      9118.27        336        0\n",
       "2018-03-13 00:00:00      9144.15        337        1\n",
       "2018-03-14 00:00:00      8196.90        338        2\n",
       "2018-03-15 00:00:00      8256.99        339        3\n",
       "2018-03-16 00:00:00      8269.33        340        4\n",
       "2018-03-17 00:00:00      7862.11        341        5\n",
       "2018-03-18 00:00:00      8196.02        342        6\n",
       "2018-03-19 00:00:00      8594.19        343        0\n",
       "2018-03-20 00:00:00      8915.90        344        1\n",
       "2018-03-21 00:00:00      8895.40        345        2\n",
       "2018-03-22 00:00:00      8712.89        346        3\n",
       "2018-03-23 00:00:00      8918.74        347        4\n",
       "2018-03-24 00:00:00      8535.89        348        5\n",
       "2018-03-25 00:00:00      8449.83        349        6\n",
       "2018-03-26 00:00:00      8138.34        350        0\n",
       "2018-03-27 00:00:00      7790.16        351        1\n",
       "2018-03-28 00:00:00      7937.20        352        2\n",
       "2018-03-29 00:00:00      7086.49        353        3\n",
       "2018-03-30 00:00:00      6844.32        354        4\n",
       "2018-03-31 00:00:00      6926.02        355        5\n",
       "2018-04-01 00:00:00      6816.74        356        6\n",
       "2018-04-02 00:00:00      7049.79        357        0\n",
       "2018-04-03 00:00:00      7417.89        358        1\n",
       "2018-04-04 00:00:00      6789.30        359        2\n",
       "2018-04-05 00:00:00      6774.75        360        3\n",
       "2018-04-06 00:00:00      6620.41        361        4\n",
       "2018-04-07 00:00:00      6896.28        362        5\n",
       "2018-04-08 00:00:00      7022.71        363        6\n",
       "2018-04-09 00:00:00      6773.94        364        0\n",
       "2018-04-10 12:04:00      6735.08        365        1\n",
       "\n",
       "[366 rows x 3 columns]"
      ]
     },
     "execution_count": 60,
     "metadata": {},
     "output_type": "execute_result"
    }
   ],
   "source": [
    "df"
   ]
  },
  {
   "cell_type": "code",
   "execution_count": 15,
   "metadata": {
    "colab": {
     "autoexec": {
      "startup": false,
      "wait_interval": 0
     },
     "base_uri": "https://localhost:8080/",
     "height": 280
    },
    "colab_type": "code",
    "executionInfo": {
     "elapsed": 562,
     "status": "ok",
     "timestamp": 1523363764512,
     "user": {
      "displayName": "Tinka Valentijn",
      "photoUrl": "https://lh3.googleusercontent.com/a/default-user=s128",
      "userId": "103398039201010540137"
     },
     "user_tz": -180
    },
    "id": "XcNS3OhZi6a4",
    "outputId": "cd73b0d4-b307-46ed-c929-5d383ba53c70"
   },
   "outputs": [
    {
     "data": {
      "text/plain": [
       "<matplotlib.axes._subplots.AxesSubplot at 0x7f5f8c770d68>"
      ]
     },
     "execution_count": 15,
     "metadata": {},
     "output_type": "execute_result"
    },
    {
     "data": {
      "image/png": "[encoded data removed]",
      "text/plain": [
       "<Figure size 432x288 with 1 Axes>"
      ]
     },
     "metadata": {},
     "output_type": "display_data"
    }
   ],
   "source": [
    "df.plot()"
   ]
  },
  {
   "cell_type": "code",
   "execution_count": 16,
   "metadata": {
    "colab": {
     "autoexec": {
      "startup": false,
      "wait_interval": 0
     }
    },
    "colab_type": "code",
    "id": "nyC8ZnyWi6bG"
   },
   "outputs": [],
   "source": [
    "week_avg=df.groupby([df.index.weekday]).mean()"
   ]
  },
  {
   "cell_type": "code",
   "execution_count": 17,
   "metadata": {
    "colab": {
     "autoexec": {
      "startup": false,
      "wait_interval": 0
     },
     "base_uri": "https://localhost:8080/",
     "height": 283
    },
    "colab_type": "code",
    "executionInfo": {
     "elapsed": 586,
     "status": "ok",
     "timestamp": 1523363766102,
     "user": {
      "displayName": "Tinka Valentijn",
      "photoUrl": "https://lh3.googleusercontent.com/a/default-user=s128",
      "userId": "103398039201010540137"
     },
     "user_tz": -180
    },
    "id": "HqPAj2nwi6bS",
    "outputId": "11d90a50-ce8c-43d4-bfb1-4286cc17b42f"
   },
   "outputs": [
    {
     "data": {
      "text/plain": [
       "<matplotlib.axes._subplots.AxesSubplot at 0x7f5f43799630>"
      ]
     },
     "execution_count": 17,
     "metadata": {},
     "output_type": "execute_result"
    },
    {
     "data": {
      "image/png": "[encoded data removed]",
      "text/plain": [
       "<Figure size 432x288 with 1 Axes>"
      ]
     },
     "metadata": {},
     "output_type": "display_data"
    }
   ],
   "source": [
    "week_avg.plot()"
   ]
  },
  {
   "cell_type": "code",
   "execution_count": 18,
   "metadata": {
    "colab": {
     "autoexec": {
      "startup": false,
      "wait_interval": 0
     }
    },
    "colab_type": "code",
    "id": "U_zsOGSTi6bg"
   },
   "outputs": [],
   "source": [
    "df['Change']=df['Close Price'].pct_change()"
   ]
  },
  {
   "cell_type": "code",
   "execution_count": 19,
   "metadata": {
    "colab": {
     "autoexec": {
      "startup": false,
      "wait_interval": 0
     }
    },
    "colab_type": "code",
    "id": "kXTeLsyMi6bs"
   },
   "outputs": [],
   "source": [
    "week_avg_change=df['Change'].groupby([df.index.weekday]).mean()"
   ]
  },
  {
   "cell_type": "code",
   "execution_count": 20,
   "metadata": {
    "colab": {
     "autoexec": {
      "startup": false,
      "wait_interval": 0
     },
     "base_uri": "https://localhost:8080/",
     "height": 283
    },
    "colab_type": "code",
    "executionInfo": {
     "elapsed": 526,
     "status": "ok",
     "timestamp": 1523363768692,
     "user": {
      "displayName": "Tinka Valentijn",
      "photoUrl": "https://lh3.googleusercontent.com/a/default-user=s128",
      "userId": "103398039201010540137"
     },
     "user_tz": -180
    },
    "id": "2W1mnmOEi6cA",
    "outputId": "33df2332-77ab-4831-b102-8ad7aa4efa0d"
   },
   "outputs": [
    {
     "data": {
      "text/plain": [
       "<matplotlib.axes._subplots.AxesSubplot at 0x7f5f4375f710>"
      ]
     },
     "execution_count": 20,
     "metadata": {},
     "output_type": "execute_result"
    },
    {
     "data": {
      "image/png": "[encoded data removed]",
      "text/plain": [
       "<Figure size 432x288 with 1 Axes>"
      ]
     },
     "metadata": {},
     "output_type": "display_data"
    }
   ],
   "source": [
    "#0=monday\n",
    "week_avg_change.plot()"
   ]
  },
  {
   "cell_type": "code",
   "execution_count": 21,
   "metadata": {
    "colab": {
     "autoexec": {
      "startup": false,
      "wait_interval": 0
     },
     "base_uri": "https://localhost:8080/",
     "height": 160
    },
    "colab_type": "code",
    "executionInfo": {
     "elapsed": 534,
     "status": "ok",
     "timestamp": 1523363769832,
     "user": {
      "displayName": "Tinka Valentijn",
      "photoUrl": "https://lh3.googleusercontent.com/a/default-user=s128",
      "userId": "103398039201010540137"
     },
     "user_tz": -180
    },
    "id": "N1ljuEU0i6cO",
    "outputId": "a7ec8a69-7527-4f36-a44c-f236a150babb"
   },
   "outputs": [
    {
     "data": {
      "text/plain": [
       "0    0.012890\n",
       "1    0.004037\n",
       "2    0.005961\n",
       "3    0.007970\n",
       "4    0.004939\n",
       "5    0.010603\n",
       "6   -0.002079\n",
       "Name: Change, dtype: float64"
      ]
     },
     "execution_count": 21,
     "metadata": {},
     "output_type": "execute_result"
    }
   ],
   "source": [
    "week_avg_change"
   ]
  },
  {
   "cell_type": "code",
   "execution_count": 22,
   "metadata": {
    "colab": {
     "autoexec": {
      "startup": false,
      "wait_interval": 0
     },
     "base_uri": "https://localhost:8080/",
     "height": 279
    },
    "colab_type": "code",
    "executionInfo": {
     "elapsed": 678,
     "status": "ok",
     "timestamp": 1523363770950,
     "user": {
      "displayName": "Tinka Valentijn",
      "photoUrl": "https://lh3.googleusercontent.com/a/default-user=s128",
      "userId": "103398039201010540137"
     },
     "user_tz": -180
    },
    "id": "H8987ElRi6ce",
    "outputId": "58ce15f6-85cc-4e4f-ba3c-30b57a1b5738"
   },
   "outputs": [
    {
     "data": {
      "text/plain": [
       "<matplotlib.axes._subplots.AxesSubplot at 0x7f5f43740898>"
      ]
     },
     "execution_count": 22,
     "metadata": {},
     "output_type": "execute_result"
    },
    {
     "data": {
      "image/png": "[encoded data removed]",
      "text/plain": [
       "<Figure size 432x288 with 1 Axes>"
      ]
     },
     "metadata": {},
     "output_type": "display_data"
    }
   ],
   "source": [
    "df['Change'].plot()"
   ]
  },
  {
   "cell_type": "code",
   "execution_count": 23,
   "metadata": {
    "colab": {
     "autoexec": {
      "startup": false,
      "wait_interval": 0
     },
     "base_uri": "https://localhost:8080/",
     "height": 290
    },
    "colab_type": "code",
    "executionInfo": {
     "elapsed": 664,
     "status": "ok",
     "timestamp": 1523363774458,
     "user": {
      "displayName": "Tinka Valentijn",
      "photoUrl": "https://lh3.googleusercontent.com/a/default-user=s128",
      "userId": "103398039201010540137"
     },
     "user_tz": -180
    },
    "id": "itYCEU4pi6co",
    "outputId": "81a37ebf-5781-4503-9dec-53d7638394b4"
   },
   "outputs": [
    {
     "data": {
      "text/plain": [
       "<matplotlib.axes._subplots.AxesSubplot at 0x7f5f43661b38>"
      ]
     },
     "execution_count": 23,
     "metadata": {},
     "output_type": "execute_result"
    },
    {
     "data": {
      "image/png": "[encoded data removed]",
      "text/plain": [
       "<Figure size 432x288 with 1 Axes>"
      ]
     },
     "metadata": {},
     "output_type": "display_data"
    }
   ],
   "source": [
    "df['Change'][-30:].plot()"
   ]
  },
  {
   "cell_type": "code",
   "execution_count": 92,
   "metadata": {},
   "outputs": [],
   "source": [
    "## PREPROCESSING\n",
    "\n",
    "df[\"Weekday\"] = df.index.weekday                 ## 0 = Monday, 6 = Sunday\n",
    "\n",
    "Y = np.array(df[\"Close Price\"]).reshape(-1, 1)\n",
    "X = np.array(df[\"Dataindex\"]).reshape(-1, 1)\n",
    "\n"
   ]
  },
  {
   "cell_type": "code",
   "execution_count": 138,
   "metadata": {
    "colab": {
     "autoexec": {
      "startup": false,
      "wait_interval": 0
     }
    },
    "colab_type": "code",
    "id": "QZSmmJ5ai6c8"
   },
   "outputs": [
    {
     "name": "stderr",
     "output_type": "stream",
     "text": [
      " /m/home/home2/27/holopaj7/unix/Envs/CS-Major/lib/python3.5/site-packages/paramz/transformations.py:111: RuntimeWarning:overflow encountered in expm1\n",
      " /m/home/home2/27/holopaj7/unix/Envs/CS-Major/lib/python3.5/site-packages/GPy/kern/src/stationary.py:167: RuntimeWarning:overflow encountered in true_divide\n",
      " /m/home/home2/27/holopaj7/unix/Envs/CS-Major/lib/python3.5/site-packages/GPy/kern/src/rbf.py:43: RuntimeWarning:overflow encountered in square\n",
      " /m/home/home2/27/holopaj7/unix/Envs/CS-Major/lib/python3.5/site-packages/GPy/kern/src/rbf.py:46: RuntimeWarning:invalid value encountered in multiply\n"
     ]
    },
    {
     "data": {
      "text/html": [
       "<style type=\"text/css\">\n",
       ".pd{\n",
       "    font-family: \"Courier New\", Courier, monospace !important;\n",
       "    width: 100%;\n",
       "    padding: 3px;\n",
       "}\n",
       "</style>\n",
       "\n",
       "<p class=pd>\n",
       "<b>Model</b>: GP regression<br>\n",
       "<b>Objective</b>: 2899.6851182604914<br>\n",
       "<b>Number of Parameters</b>: 7<br>\n",
       "<b>Number of Optimization Parameters</b>: 6<br>\n",
       "<b>Updates</b>: True<br>\n",
       "</p>\n",
       "<style type=\"text/css\">\n",
       ".tg  {font-family:\"Courier New\", Courier, monospace !important;padding:2px 3px;word-break:normal;border-collapse:collapse;border-spacing:0;border-color:#DCDCDC;margin:0px auto;width:100%;}\n",
       ".tg td{font-family:\"Courier New\", Courier, monospace !important;font-weight:bold;color:#444;background-color:#F7FDFA;border-style:solid;border-width:1px;overflow:hidden;word-break:normal;border-color:#DCDCDC;}\n",
       ".tg th{font-family:\"Courier New\", Courier, monospace !important;font-weight:normal;color:#fff;background-color:#26ADE4;border-style:solid;border-width:1px;overflow:hidden;word-break:normal;border-color:#DCDCDC;}\n",
       ".tg .tg-left{font-family:\"Courier New\", Courier, monospace !important;font-weight:normal;text-align:left;}\n",
       ".tg .tg-center{font-family:\"Courier New\", Courier, monospace !important;font-weight:normal;text-align:center;}\n",
       ".tg .tg-right{font-family:\"Courier New\", Courier, monospace !important;font-weight:normal;text-align:right;}\n",
       "</style>\n",
       "<table class=\"tg\"><tr><th><b>  GP_regression.                      </b></th><th><b>             value</b></th><th><b>constraints</b></th><th><b>priors</b></th></tr>\n",
       "<tr><td class=tg-left>  sum.mul.rbf.variance                </td><td class=tg-right>200072.61646316457</td><td class=tg-center>    +ve    </td><td class=tg-center>      </td></tr>\n",
       "<tr><td class=tg-left>  sum.mul.rbf.lengthscale             </td><td class=tg-right>10.754982503053165</td><td class=tg-center>    +ve    </td><td class=tg-center>      </td></tr>\n",
       "<tr><td class=tg-left>  sum.mul.bias.variance               </td><td class=tg-right>164.33947886078803</td><td class=tg-center>    +ve    </td><td class=tg-center>      </td></tr>\n",
       "<tr><td class=tg-left>  sum.periodic_exponential.variance   </td><td class=tg-right>249752.93752744162</td><td class=tg-center>    +ve    </td><td class=tg-center>      </td></tr>\n",
       "<tr><td class=tg-left>  sum.periodic_exponential.lengthscale</td><td class=tg-right>3193965.5971837286</td><td class=tg-center>    +ve    </td><td class=tg-center>      </td></tr>\n",
       "<tr><td class=tg-left>  sum.periodic_exponential.period     </td><td class=tg-right>               7.0</td><td class=tg-center> +ve fixed </td><td class=tg-center>      </td></tr>\n",
       "<tr><td class=tg-left>  Gaussian_noise.variance             </td><td class=tg-right> 277209.0946487546</td><td class=tg-center>    +ve    </td><td class=tg-center>      </td></tr>\n",
       "</table>"
      ],
      "text/plain": [
       "<GPy.models.gp_regression.GPRegression at 0x7f5f3901eef0>"
      ]
     },
     "metadata": {},
     "output_type": "display_data"
    },
    {
     "name": "stdout",
     "output_type": "stream",
     "text": [
      "(array([[-0.00051165]]), array([[33157038.66300759]]))\n"
     ]
    },
    {
     "name": "stderr",
     "output_type": "stream",
     "text": [
      " /m/home/home2/27/holopaj7/unix/Envs/CS-Major/lib/python3.5/site-packages/matplotlib/figure.py:2267: UserWarning:This figure includes Axes that are not compatible with tight_layout, so results might be incorrect.\n"
     ]
    },
    {
     "data": {
      "image/png": "[encoded data removed]",
      "text/plain": [
       "<Figure size 432x288 with 1 Axes>"
      ]
     },
     "metadata": {},
     "output_type": "display_data"
    }
   ],
   "source": [
    "# http://www.cs.toronto.edu/~duvenaud/cookbook/                                                            Affects of addition and multiplication of kernels\n",
    "# http://nbviewer.jupyter.org/github/SheffieldML/notebook/blob/master/GPy/basic_kernels.ipynb              Lecture link: Kernel overview\n",
    "# http://nbviewer.jupyter.org/github/SheffieldML/notebook/blob/master/GPy/basic_gp.ipynb                   Lecture link: GP Regression tutorial\n",
    "\n",
    "RBF = GPy.kern.RBF(input_dim=1, variance=200000., lengthscale=20.)\n",
    "RBF2 = GPy.kern.RBF(input_dim=1, variance=20000., lengthscale=20.)\n",
    "PERIODIC = GPy.kern.PeriodicMatern52(input_dim=1, variance=8000, lengthscale=0.5, period=7)\n",
    "EXP_PER = GPy.kern.PeriodicExponential(input_dim=1, variance=250000, lengthscale=20, period=7)\n",
    "EXP_PER.period.fix()\n",
    "LIN = GPy.kern.Linear(1, variances=55000)\n",
    "BIAS = GPy.kern.Bias(input_dim=1, variance=2)\n",
    "BIAS2 = GPy.kern.Bias(input_dim=1, variance=35)\n",
    "BIAS3 = GPy.kern.Bias(input_dim=1, variance=35)\n",
    "LIN_BIAS = GPy.kern.Bias(input_dim=1, variance=350000)\n",
    "EXP = GPy.kern.Exponential(1)\n",
    "\n",
    "RBF_PER = RBF*BIAS + EXP_PER\n",
    "LIN_BIAS = LIN + LIN_BIAS\n",
    "RBF_BIAS = RBF2 + BIAS2\n",
    "EXP = EXP + LIN + BIAS3\n",
    "\n",
    "m = GPy.models.GPRegression(X, Y, RBF_PER)\n",
    "m.optimize()\n",
    "display(m)\n",
    "\n",
    "m.plot()\n",
    "\n",
    "print(m.predict(np.array([450]).reshape(-1, 1)))"
   ]
  },
  {
   "cell_type": "code",
   "execution_count": null,
   "metadata": {},
   "outputs": [],
   "source": [
    "## RANDOM SEARCH FOR THE OPTIMAL PARAMETERS?"
   ]
  }
 ],
 "metadata": {
  "colab": {
   "default_view": {},
   "name": "bitcoin_analysis.ipynb",
   "provenance": [],
   "version": "0.3.2",
   "views": {}
  },
  "kernelspec": {
   "display_name": "Python 3",
   "language": "python",
   "name": "python3"
  },
  "language_info": {
   "codemirror_mode": {
    "name": "ipython",
    "version": 3
   },
   "file_extension": ".py",
   "mimetype": "text/x-python",
   "name": "python",
   "nbconvert_exporter": "python",
   "pygments_lexer": "ipython3",
   "version": "3.5.2"
  }
 },
 "nbformat": 4,
 "nbformat_minor": 1
}
