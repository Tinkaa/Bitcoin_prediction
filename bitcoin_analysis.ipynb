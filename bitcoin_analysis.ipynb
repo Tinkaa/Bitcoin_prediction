{
 "cells": [
  {
   "cell_type": "code",
   "execution_count": 3,
   "metadata": {
    "colab": {
     "autoexec": {
      "startup": false,
      "wait_interval": 0
     }
    },
    "colab_type": "code",
    "id": "QsibEgfUi6Z6"
   },
   "outputs": [
    {
     "data": {
      "text/html": [
       "<style>.container { width:100% !important; }</style>"
      ],
      "text/plain": [
       "<IPython.core.display.HTML object>"
      ]
     },
     "metadata": {},
     "output_type": "display_data"
    }
   ],
   "source": [
    "from IPython.core.display import display, HTML\n",
    "display(HTML(\"<style>.container { width:100% !important; }</style>\"))\\\n",
    "\n",
    "import numpy as np\n",
    "import pandas as pd\n",
    "import GPy\n",
    "try:\n",
    "    from google.colab import files\n",
    "    uploaded = files.upload()\n",
    "except ImportError:\n",
    "    pass\n",
    "    \n",
    "from matplotlib import pyplot as plt\n",
    "from sklearn.preprocessing import scale\n",
    "    \n",
    "%matplotlib inline"
   ]
  },
  {
   "cell_type": "code",
   "execution_count": 6,
   "metadata": {
    "colab": {
     "autoexec": {
      "startup": false,
      "wait_interval": 0
     }
    },
    "colab_type": "code",
    "id": "joZgR1oRi6aI"
   },
   "outputs": [],
   "source": [
    "df=pd.read_csv('bitcoin_start-240418.csv')"
   ]
  },
  {
   "cell_type": "code",
   "execution_count": 7,
   "metadata": {
    "colab": {
     "autoexec": {
      "startup": false,
      "wait_interval": 0
     },
     "base_uri": "https://localhost:8080/",
     "height": 53
    },
    "colab_type": "code",
    "executionInfo": {
     "elapsed": 502,
     "status": "ok",
     "timestamp": 1523363756384,
     "user": {
      "displayName": "Tinka Valentijn",
      "photoUrl": "https://lh3.googleusercontent.com/a/default-user=s128",
      "userId": "103398039201010540137"
     },
     "user_tz": -180
    },
    "id": "OnzDfPn8i6aQ",
    "outputId": "42f78e95-7893-4c4a-a017-73141cdef2cd"
   },
   "outputs": [
    {
     "name": "stderr",
     "output_type": "stream",
     "text": [
      " /m/home/home2/27/holopaj7/unix/Envs/CS-Major/lib/python3.5/site-packages/ipykernel_launcher.py:4: FutureWarning:to_datetime is deprecated. Use pd.to_datetime(...)\n"
     ]
    }
   ],
   "source": [
    "df=df[:-2]\n",
    "df[\"Dataindex\"] = df.index                        ## Keep index, could be usefull\n",
    "df.index=df.Date    \n",
    "df.index=df.index.to_datetime()\n",
    "df=df.drop(columns=['Date'])"
   ]
  },
  {
   "cell_type": "code",
   "execution_count": 8,
   "metadata": {
    "colab": {
     "autoexec": {
      "startup": false,
      "wait_interval": 0
     },
     "base_uri": "https://localhost:8080/",
     "height": 1992
    },
    "colab_type": "code",
    "executionInfo": {
     "elapsed": 544,
     "status": "ok",
     "timestamp": 1523363757678,
     "user": {
      "displayName": "Tinka Valentijn",
      "photoUrl": "https://lh3.googleusercontent.com/a/default-user=s128",
      "userId": "103398039201010540137"
     },
     "user_tz": -180
    },
    "id": "o2EWnHVri6ao",
    "outputId": "57a6d6ce-ab26-4bea-d809-fd0e640b3ac6",
    "scrolled": true
   },
   "outputs": [
    {
     "data": {
      "text/html": [
       "<div>\n",
       "<style scoped>\n",
       "    .dataframe tbody tr th:only-of-type {\n",
       "        vertical-align: middle;\n",
       "    }\n",
       "\n",
       "    .dataframe tbody tr th {\n",
       "        vertical-align: top;\n",
       "    }\n",
       "\n",
       "    .dataframe thead th {\n",
       "        text-align: right;\n",
       "    }\n",
       "</style>\n",
       "<table border=\"1\" class=\"dataframe\">\n",
       "  <thead>\n",
       "    <tr style=\"text-align: right;\">\n",
       "      <th></th>\n",
       "      <th>Close Price</th>\n",
       "      <th>Dataindex</th>\n",
       "    </tr>\n",
       "  </thead>\n",
       "  <tbody>\n",
       "    <tr>\n",
       "      <th>2010-07-18 00:00:00</th>\n",
       "      <td>0.09</td>\n",
       "      <td>0</td>\n",
       "    </tr>\n",
       "    <tr>\n",
       "      <th>2010-07-19 00:00:00</th>\n",
       "      <td>0.08</td>\n",
       "      <td>1</td>\n",
       "    </tr>\n",
       "    <tr>\n",
       "      <th>2010-07-20 00:00:00</th>\n",
       "      <td>0.07</td>\n",
       "      <td>2</td>\n",
       "    </tr>\n",
       "    <tr>\n",
       "      <th>2010-07-21 00:00:00</th>\n",
       "      <td>0.08</td>\n",
       "      <td>3</td>\n",
       "    </tr>\n",
       "    <tr>\n",
       "      <th>2010-07-22 00:00:00</th>\n",
       "      <td>0.05</td>\n",
       "      <td>4</td>\n",
       "    </tr>\n",
       "    <tr>\n",
       "      <th>2010-07-23 00:00:00</th>\n",
       "      <td>0.06</td>\n",
       "      <td>5</td>\n",
       "    </tr>\n",
       "    <tr>\n",
       "      <th>2010-07-24 00:00:00</th>\n",
       "      <td>0.05</td>\n",
       "      <td>6</td>\n",
       "    </tr>\n",
       "    <tr>\n",
       "      <th>2010-07-25 00:00:00</th>\n",
       "      <td>0.05</td>\n",
       "      <td>7</td>\n",
       "    </tr>\n",
       "    <tr>\n",
       "      <th>2010-07-26 00:00:00</th>\n",
       "      <td>0.06</td>\n",
       "      <td>8</td>\n",
       "    </tr>\n",
       "    <tr>\n",
       "      <th>2010-07-27 00:00:00</th>\n",
       "      <td>0.06</td>\n",
       "      <td>9</td>\n",
       "    </tr>\n",
       "    <tr>\n",
       "      <th>2010-07-28 00:00:00</th>\n",
       "      <td>0.06</td>\n",
       "      <td>10</td>\n",
       "    </tr>\n",
       "    <tr>\n",
       "      <th>2010-07-29 00:00:00</th>\n",
       "      <td>0.07</td>\n",
       "      <td>11</td>\n",
       "    </tr>\n",
       "    <tr>\n",
       "      <th>2010-07-30 00:00:00</th>\n",
       "      <td>0.06</td>\n",
       "      <td>12</td>\n",
       "    </tr>\n",
       "    <tr>\n",
       "      <th>2010-07-31 00:00:00</th>\n",
       "      <td>0.07</td>\n",
       "      <td>13</td>\n",
       "    </tr>\n",
       "    <tr>\n",
       "      <th>2010-08-01 00:00:00</th>\n",
       "      <td>0.06</td>\n",
       "      <td>14</td>\n",
       "    </tr>\n",
       "    <tr>\n",
       "      <th>2010-08-02 00:00:00</th>\n",
       "      <td>0.06</td>\n",
       "      <td>15</td>\n",
       "    </tr>\n",
       "    <tr>\n",
       "      <th>2010-08-03 00:00:00</th>\n",
       "      <td>0.06</td>\n",
       "      <td>16</td>\n",
       "    </tr>\n",
       "    <tr>\n",
       "      <th>2010-08-04 00:00:00</th>\n",
       "      <td>0.06</td>\n",
       "      <td>17</td>\n",
       "    </tr>\n",
       "    <tr>\n",
       "      <th>2010-08-05 00:00:00</th>\n",
       "      <td>0.06</td>\n",
       "      <td>18</td>\n",
       "    </tr>\n",
       "    <tr>\n",
       "      <th>2010-08-06 00:00:00</th>\n",
       "      <td>0.06</td>\n",
       "      <td>19</td>\n",
       "    </tr>\n",
       "    <tr>\n",
       "      <th>2010-08-07 00:00:00</th>\n",
       "      <td>0.06</td>\n",
       "      <td>20</td>\n",
       "    </tr>\n",
       "    <tr>\n",
       "      <th>2010-08-08 00:00:00</th>\n",
       "      <td>0.06</td>\n",
       "      <td>21</td>\n",
       "    </tr>\n",
       "    <tr>\n",
       "      <th>2010-08-09 00:00:00</th>\n",
       "      <td>0.07</td>\n",
       "      <td>22</td>\n",
       "    </tr>\n",
       "    <tr>\n",
       "      <th>2010-08-10 00:00:00</th>\n",
       "      <td>0.07</td>\n",
       "      <td>23</td>\n",
       "    </tr>\n",
       "    <tr>\n",
       "      <th>2010-08-11 00:00:00</th>\n",
       "      <td>0.07</td>\n",
       "      <td>24</td>\n",
       "    </tr>\n",
       "    <tr>\n",
       "      <th>2010-08-12 00:00:00</th>\n",
       "      <td>0.07</td>\n",
       "      <td>25</td>\n",
       "    </tr>\n",
       "    <tr>\n",
       "      <th>2010-08-13 00:00:00</th>\n",
       "      <td>0.06</td>\n",
       "      <td>26</td>\n",
       "    </tr>\n",
       "    <tr>\n",
       "      <th>2010-08-14 00:00:00</th>\n",
       "      <td>0.07</td>\n",
       "      <td>27</td>\n",
       "    </tr>\n",
       "    <tr>\n",
       "      <th>2010-08-15 00:00:00</th>\n",
       "      <td>0.07</td>\n",
       "      <td>28</td>\n",
       "    </tr>\n",
       "    <tr>\n",
       "      <th>2010-08-16 00:00:00</th>\n",
       "      <td>0.07</td>\n",
       "      <td>29</td>\n",
       "    </tr>\n",
       "    <tr>\n",
       "      <th>...</th>\n",
       "      <td>...</td>\n",
       "      <td>...</td>\n",
       "    </tr>\n",
       "    <tr>\n",
       "      <th>2018-03-26 00:00:00</th>\n",
       "      <td>8138.34</td>\n",
       "      <td>2808</td>\n",
       "    </tr>\n",
       "    <tr>\n",
       "      <th>2018-03-27 00:00:00</th>\n",
       "      <td>7790.16</td>\n",
       "      <td>2809</td>\n",
       "    </tr>\n",
       "    <tr>\n",
       "      <th>2018-03-28 00:00:00</th>\n",
       "      <td>7937.20</td>\n",
       "      <td>2810</td>\n",
       "    </tr>\n",
       "    <tr>\n",
       "      <th>2018-03-29 00:00:00</th>\n",
       "      <td>7086.49</td>\n",
       "      <td>2811</td>\n",
       "    </tr>\n",
       "    <tr>\n",
       "      <th>2018-03-30 00:00:00</th>\n",
       "      <td>6844.32</td>\n",
       "      <td>2812</td>\n",
       "    </tr>\n",
       "    <tr>\n",
       "      <th>2018-03-31 00:00:00</th>\n",
       "      <td>6926.02</td>\n",
       "      <td>2813</td>\n",
       "    </tr>\n",
       "    <tr>\n",
       "      <th>2018-04-01 00:00:00</th>\n",
       "      <td>6816.74</td>\n",
       "      <td>2814</td>\n",
       "    </tr>\n",
       "    <tr>\n",
       "      <th>2018-04-02 00:00:00</th>\n",
       "      <td>7049.79</td>\n",
       "      <td>2815</td>\n",
       "    </tr>\n",
       "    <tr>\n",
       "      <th>2018-04-03 00:00:00</th>\n",
       "      <td>7417.89</td>\n",
       "      <td>2816</td>\n",
       "    </tr>\n",
       "    <tr>\n",
       "      <th>2018-04-04 00:00:00</th>\n",
       "      <td>6789.30</td>\n",
       "      <td>2817</td>\n",
       "    </tr>\n",
       "    <tr>\n",
       "      <th>2018-04-05 00:00:00</th>\n",
       "      <td>6774.75</td>\n",
       "      <td>2818</td>\n",
       "    </tr>\n",
       "    <tr>\n",
       "      <th>2018-04-06 00:00:00</th>\n",
       "      <td>6620.41</td>\n",
       "      <td>2819</td>\n",
       "    </tr>\n",
       "    <tr>\n",
       "      <th>2018-04-07 00:00:00</th>\n",
       "      <td>6896.28</td>\n",
       "      <td>2820</td>\n",
       "    </tr>\n",
       "    <tr>\n",
       "      <th>2018-04-08 00:00:00</th>\n",
       "      <td>7022.71</td>\n",
       "      <td>2821</td>\n",
       "    </tr>\n",
       "    <tr>\n",
       "      <th>2018-04-09 00:00:00</th>\n",
       "      <td>6773.94</td>\n",
       "      <td>2822</td>\n",
       "    </tr>\n",
       "    <tr>\n",
       "      <th>2018-04-10 00:00:00</th>\n",
       "      <td>6830.90</td>\n",
       "      <td>2823</td>\n",
       "    </tr>\n",
       "    <tr>\n",
       "      <th>2018-04-11 00:00:00</th>\n",
       "      <td>6939.55</td>\n",
       "      <td>2824</td>\n",
       "    </tr>\n",
       "    <tr>\n",
       "      <th>2018-04-12 00:00:00</th>\n",
       "      <td>7916.37</td>\n",
       "      <td>2825</td>\n",
       "    </tr>\n",
       "    <tr>\n",
       "      <th>2018-04-13 00:00:00</th>\n",
       "      <td>7889.23</td>\n",
       "      <td>2826</td>\n",
       "    </tr>\n",
       "    <tr>\n",
       "      <th>2018-04-14 00:00:00</th>\n",
       "      <td>8003.68</td>\n",
       "      <td>2827</td>\n",
       "    </tr>\n",
       "    <tr>\n",
       "      <th>2018-04-15 00:00:00</th>\n",
       "      <td>8357.04</td>\n",
       "      <td>2828</td>\n",
       "    </tr>\n",
       "    <tr>\n",
       "      <th>2018-04-16 00:00:00</th>\n",
       "      <td>8051.34</td>\n",
       "      <td>2829</td>\n",
       "    </tr>\n",
       "    <tr>\n",
       "      <th>2018-04-17 00:00:00</th>\n",
       "      <td>7890.15</td>\n",
       "      <td>2830</td>\n",
       "    </tr>\n",
       "    <tr>\n",
       "      <th>2018-04-18 00:00:00</th>\n",
       "      <td>8163.69</td>\n",
       "      <td>2831</td>\n",
       "    </tr>\n",
       "    <tr>\n",
       "      <th>2018-04-19 00:00:00</th>\n",
       "      <td>8273.74</td>\n",
       "      <td>2832</td>\n",
       "    </tr>\n",
       "    <tr>\n",
       "      <th>2018-04-20 00:00:00</th>\n",
       "      <td>8863.50</td>\n",
       "      <td>2833</td>\n",
       "    </tr>\n",
       "    <tr>\n",
       "      <th>2018-04-21 00:00:00</th>\n",
       "      <td>8917.60</td>\n",
       "      <td>2834</td>\n",
       "    </tr>\n",
       "    <tr>\n",
       "      <th>2018-04-22 00:00:00</th>\n",
       "      <td>8792.83</td>\n",
       "      <td>2835</td>\n",
       "    </tr>\n",
       "    <tr>\n",
       "      <th>2018-04-23 00:00:00</th>\n",
       "      <td>8938.30</td>\n",
       "      <td>2836</td>\n",
       "    </tr>\n",
       "    <tr>\n",
       "      <th>2018-04-24 10:28:00</th>\n",
       "      <td>9290.46</td>\n",
       "      <td>2837</td>\n",
       "    </tr>\n",
       "  </tbody>\n",
       "</table>\n",
       "<p>2838 rows × 2 columns</p>\n",
       "</div>"
      ],
      "text/plain": [
       "                     Close Price  Dataindex\n",
       "2010-07-18 00:00:00         0.09          0\n",
       "2010-07-19 00:00:00         0.08          1\n",
       "2010-07-20 00:00:00         0.07          2\n",
       "2010-07-21 00:00:00         0.08          3\n",
       "2010-07-22 00:00:00         0.05          4\n",
       "2010-07-23 00:00:00         0.06          5\n",
       "2010-07-24 00:00:00         0.05          6\n",
       "2010-07-25 00:00:00         0.05          7\n",
       "2010-07-26 00:00:00         0.06          8\n",
       "2010-07-27 00:00:00         0.06          9\n",
       "2010-07-28 00:00:00         0.06         10\n",
       "2010-07-29 00:00:00         0.07         11\n",
       "2010-07-30 00:00:00         0.06         12\n",
       "2010-07-31 00:00:00         0.07         13\n",
       "2010-08-01 00:00:00         0.06         14\n",
       "2010-08-02 00:00:00         0.06         15\n",
       "2010-08-03 00:00:00         0.06         16\n",
       "2010-08-04 00:00:00         0.06         17\n",
       "2010-08-05 00:00:00         0.06         18\n",
       "2010-08-06 00:00:00         0.06         19\n",
       "2010-08-07 00:00:00         0.06         20\n",
       "2010-08-08 00:00:00         0.06         21\n",
       "2010-08-09 00:00:00         0.07         22\n",
       "2010-08-10 00:00:00         0.07         23\n",
       "2010-08-11 00:00:00         0.07         24\n",
       "2010-08-12 00:00:00         0.07         25\n",
       "2010-08-13 00:00:00         0.06         26\n",
       "2010-08-14 00:00:00         0.07         27\n",
       "2010-08-15 00:00:00         0.07         28\n",
       "2010-08-16 00:00:00         0.07         29\n",
       "...                          ...        ...\n",
       "2018-03-26 00:00:00      8138.34       2808\n",
       "2018-03-27 00:00:00      7790.16       2809\n",
       "2018-03-28 00:00:00      7937.20       2810\n",
       "2018-03-29 00:00:00      7086.49       2811\n",
       "2018-03-30 00:00:00      6844.32       2812\n",
       "2018-03-31 00:00:00      6926.02       2813\n",
       "2018-04-01 00:00:00      6816.74       2814\n",
       "2018-04-02 00:00:00      7049.79       2815\n",
       "2018-04-03 00:00:00      7417.89       2816\n",
       "2018-04-04 00:00:00      6789.30       2817\n",
       "2018-04-05 00:00:00      6774.75       2818\n",
       "2018-04-06 00:00:00      6620.41       2819\n",
       "2018-04-07 00:00:00      6896.28       2820\n",
       "2018-04-08 00:00:00      7022.71       2821\n",
       "2018-04-09 00:00:00      6773.94       2822\n",
       "2018-04-10 00:00:00      6830.90       2823\n",
       "2018-04-11 00:00:00      6939.55       2824\n",
       "2018-04-12 00:00:00      7916.37       2825\n",
       "2018-04-13 00:00:00      7889.23       2826\n",
       "2018-04-14 00:00:00      8003.68       2827\n",
       "2018-04-15 00:00:00      8357.04       2828\n",
       "2018-04-16 00:00:00      8051.34       2829\n",
       "2018-04-17 00:00:00      7890.15       2830\n",
       "2018-04-18 00:00:00      8163.69       2831\n",
       "2018-04-19 00:00:00      8273.74       2832\n",
       "2018-04-20 00:00:00      8863.50       2833\n",
       "2018-04-21 00:00:00      8917.60       2834\n",
       "2018-04-22 00:00:00      8792.83       2835\n",
       "2018-04-23 00:00:00      8938.30       2836\n",
       "2018-04-24 10:28:00      9290.46       2837\n",
       "\n",
       "[2838 rows x 2 columns]"
      ]
     },
     "execution_count": 8,
     "metadata": {},
     "output_type": "execute_result"
    }
   ],
   "source": [
    "df"
   ]
  },
  {
   "cell_type": "code",
   "execution_count": 9,
   "metadata": {
    "colab": {
     "autoexec": {
      "startup": false,
      "wait_interval": 0
     },
     "base_uri": "https://localhost:8080/",
     "height": 280
    },
    "colab_type": "code",
    "executionInfo": {
     "elapsed": 562,
     "status": "ok",
     "timestamp": 1523363764512,
     "user": {
      "displayName": "Tinka Valentijn",
      "photoUrl": "https://lh3.googleusercontent.com/a/default-user=s128",
      "userId": "103398039201010540137"
     },
     "user_tz": -180
    },
    "id": "XcNS3OhZi6a4",
    "outputId": "cd73b0d4-b307-46ed-c929-5d383ba53c70"
   },
   "outputs": [
    {
     "data": {
      "text/plain": [
       "<matplotlib.axes._subplots.AxesSubplot at 0x7f5a492cba20>"
      ]
     },
     "execution_count": 9,
     "metadata": {},
     "output_type": "execute_result"
    },
    {
     "data": {
      "image/png": "[encoded data removed]",
      "text/plain": [
       "<Figure size 432x288 with 1 Axes>"
      ]
     },
     "metadata": {},
     "output_type": "display_data"
    }
   ],
   "source": [
    "df.plot()"
   ]
  },
  {
   "cell_type": "code",
   "execution_count": 10,
   "metadata": {
    "colab": {
     "autoexec": {
      "startup": false,
      "wait_interval": 0
     }
    },
    "colab_type": "code",
    "id": "nyC8ZnyWi6bG"
   },
   "outputs": [],
   "source": [
    "week_avg=df.groupby([df.index.weekday]).mean()"
   ]
  },
  {
   "cell_type": "code",
   "execution_count": 11,
   "metadata": {
    "colab": {
     "autoexec": {
      "startup": false,
      "wait_interval": 0
     },
     "base_uri": "https://localhost:8080/",
     "height": 283
    },
    "colab_type": "code",
    "executionInfo": {
     "elapsed": 586,
     "status": "ok",
     "timestamp": 1523363766102,
     "user": {
      "displayName": "Tinka Valentijn",
      "photoUrl": "https://lh3.googleusercontent.com/a/default-user=s128",
      "userId": "103398039201010540137"
     },
     "user_tz": -180
    },
    "id": "HqPAj2nwi6bS",
    "outputId": "11d90a50-ce8c-43d4-bfb1-4286cc17b42f"
   },
   "outputs": [
    {
     "data": {
      "text/plain": [
       "<matplotlib.axes._subplots.AxesSubplot at 0x7f5a467fa240>"
      ]
     },
     "execution_count": 11,
     "metadata": {},
     "output_type": "execute_result"
    },
    {
     "data": {
      "image/png": "[encoded data removed]",
      "text/plain": [
       "<Figure size 432x288 with 1 Axes>"
      ]
     },
     "metadata": {},
     "output_type": "display_data"
    }
   ],
   "source": [
    "week_avg.plot()"
   ]
  },
  {
   "cell_type": "code",
   "execution_count": 12,
   "metadata": {
    "colab": {
     "autoexec": {
      "startup": false,
      "wait_interval": 0
     }
    },
    "colab_type": "code",
    "id": "U_zsOGSTi6bg"
   },
   "outputs": [],
   "source": [
    "df['Change']=df['Close Price'].pct_change()"
   ]
  },
  {
   "cell_type": "code",
   "execution_count": 13,
   "metadata": {
    "colab": {
     "autoexec": {
      "startup": false,
      "wait_interval": 0
     }
    },
    "colab_type": "code",
    "id": "kXTeLsyMi6bs"
   },
   "outputs": [],
   "source": [
    "week_avg_change=df['Change'].groupby([df.index.weekday]).mean()"
   ]
  },
  {
   "cell_type": "code",
   "execution_count": 14,
   "metadata": {},
   "outputs": [],
   "source": [
    "week_std=df['Change'].groupby([df.index.weekday]).std()"
   ]
  },
  {
   "cell_type": "code",
   "execution_count": 15,
   "metadata": {},
   "outputs": [
    {
     "data": {
      "text/plain": [
       "<matplotlib.axes._subplots.AxesSubplot at 0x7f5a467cc6a0>"
      ]
     },
     "execution_count": 15,
     "metadata": {},
     "output_type": "execute_result"
    },
    {
     "data": {
      "image/png": "[encoded data removed]",
      "text/plain": [
       "<Figure size 432x288 with 1 Axes>"
      ]
     },
     "metadata": {},
     "output_type": "display_data"
    }
   ],
   "source": [
    "week_avg_change.plot()"
   ]
  },
  {
   "cell_type": "code",
   "execution_count": 16,
   "metadata": {
    "colab": {
     "autoexec": {
      "startup": false,
      "wait_interval": 0
     },
     "base_uri": "https://localhost:8080/",
     "height": 283
    },
    "colab_type": "code",
    "executionInfo": {
     "elapsed": 526,
     "status": "ok",
     "timestamp": 1523363768692,
     "user": {
      "displayName": "Tinka Valentijn",
      "photoUrl": "https://lh3.googleusercontent.com/a/default-user=s128",
      "userId": "103398039201010540137"
     },
     "user_tz": -180
    },
    "id": "2W1mnmOEi6cA",
    "outputId": "33df2332-77ab-4831-b102-8ad7aa4efa0d"
   },
   "outputs": [
    {
     "data": {
      "text/plain": [
       "<matplotlib.collections.PolyCollection at 0x7f5a46745048>"
      ]
     },
     "execution_count": 16,
     "metadata": {},
     "output_type": "execute_result"
    },
    {
     "data": {
      "image/png": "[encoded data removed]",
      "text/plain": [
       "<Figure size 432x288 with 1 Axes>"
      ]
     },
     "metadata": {},
     "output_type": "display_data"
    }
   ],
   "source": [
    "#0=monday\n",
    "#when plotting std, it seems there is not a real trend in weekday. \n",
    "#Interesting that Thursday is more uncertain. \n",
    "week_avg_change.plot()\n",
    "plt.plot(range(7),week_avg_change,color='b')\n",
    "plt.plot(range(7),week_avg_change+2*week_std,color='r' ,linestyle='--')\n",
    "plt.plot(range(7),week_avg_change-2*week_std,color='r' ,linestyle='--')\n",
    "plt.fill_between(range(7),week_avg_change+2*week_std,week_avg_change-2*week_std,color='r',alpha=0.25)"
   ]
  },
  {
   "cell_type": "code",
   "execution_count": 17,
   "metadata": {
    "colab": {
     "autoexec": {
      "startup": false,
      "wait_interval": 0
     },
     "base_uri": "https://localhost:8080/",
     "height": 160
    },
    "colab_type": "code",
    "executionInfo": {
     "elapsed": 534,
     "status": "ok",
     "timestamp": 1523363769832,
     "user": {
      "displayName": "Tinka Valentijn",
      "photoUrl": "https://lh3.googleusercontent.com/a/default-user=s128",
      "userId": "103398039201010540137"
     },
     "user_tz": -180
    },
    "id": "N1ljuEU0i6cO",
    "outputId": "a7ec8a69-7527-4f36-a44c-f236a150babb"
   },
   "outputs": [
    {
     "data": {
      "text/plain": [
       "0    0.006786\n",
       "1    0.009140\n",
       "2    0.007123\n",
       "3    0.006544\n",
       "4    0.004801\n",
       "5    0.005076\n",
       "6    0.001150\n",
       "Name: Change, dtype: float64"
      ]
     },
     "execution_count": 17,
     "metadata": {},
     "output_type": "execute_result"
    }
   ],
   "source": [
    "week_avg_change"
   ]
  },
  {
   "cell_type": "code",
   "execution_count": 18,
   "metadata": {
    "colab": {
     "autoexec": {
      "startup": false,
      "wait_interval": 0
     },
     "base_uri": "https://localhost:8080/",
     "height": 279
    },
    "colab_type": "code",
    "executionInfo": {
     "elapsed": 678,
     "status": "ok",
     "timestamp": 1523363770950,
     "user": {
      "displayName": "Tinka Valentijn",
      "photoUrl": "https://lh3.googleusercontent.com/a/default-user=s128",
      "userId": "103398039201010540137"
     },
     "user_tz": -180
    },
    "id": "H8987ElRi6ce",
    "outputId": "58ce15f6-85cc-4e4f-ba3c-30b57a1b5738"
   },
   "outputs": [
    {
     "data": {
      "text/plain": [
       "<matplotlib.axes._subplots.AxesSubplot at 0x7f5a46763358>"
      ]
     },
     "execution_count": 18,
     "metadata": {},
     "output_type": "execute_result"
    },
    {
     "data": {
      "image/png": "[encoded data removed]",
      "text/plain": [
       "<Figure size 432x288 with 1 Axes>"
      ]
     },
     "metadata": {},
     "output_type": "display_data"
    }
   ],
   "source": [
    "df['Change'].plot()"
   ]
  },
  {
   "cell_type": "code",
   "execution_count": 19,
   "metadata": {
    "colab": {
     "autoexec": {
      "startup": false,
      "wait_interval": 0
     },
     "base_uri": "https://localhost:8080/",
     "height": 290
    },
    "colab_type": "code",
    "executionInfo": {
     "elapsed": 664,
     "status": "ok",
     "timestamp": 1523363774458,
     "user": {
      "displayName": "Tinka Valentijn",
      "photoUrl": "https://lh3.googleusercontent.com/a/default-user=s128",
      "userId": "103398039201010540137"
     },
     "user_tz": -180
    },
    "id": "itYCEU4pi6co",
    "outputId": "81a37ebf-5781-4503-9dec-53d7638394b4"
   },
   "outputs": [
    {
     "data": {
      "text/plain": [
       "<matplotlib.axes._subplots.AxesSubplot at 0x7f5a466ba4a8>"
      ]
     },
     "execution_count": 19,
     "metadata": {},
     "output_type": "execute_result"
    },
    {
     "data": {
      "image/png": "[encoded data removed]",
      "text/plain": [
       "<Figure size 432x288 with 1 Axes>"
      ]
     },
     "metadata": {},
     "output_type": "display_data"
    }
   ],
   "source": [
    "df['Change'][-30:].plot()"
   ]
  },
  {
   "cell_type": "code",
   "execution_count": 43,
   "metadata": {},
   "outputs": [],
   "source": [
    "## PREPROCESSING\n",
    "\n",
    "df[\"Weekday\"] = df.index.weekday                 ## 0 = Monday, 6 = Sunday\n",
    "\n",
    "Y = np.array(df[\"Close Price\"])[-250:].reshape(-1, 1)\n",
    "\n",
    "X = np.array(df[\"Weekday\"])[-250:].reshape(-1, 1)\n",
    "\n",
    "train_per=0.8\n",
    "split_ind=int(len(X)*train_per)\n",
    "X_train=X[:split_ind]\n",
    "Y_train=Y[:split_ind]\n",
    "X_test=X[split_ind:]\n",
    "Y_test=Y[split_ind:]"
   ]
  },
  {
   "cell_type": "code",
   "execution_count": 44,
   "metadata": {},
   "outputs": [
    {
     "data": {
      "text/plain": [
       "<matplotlib.axes._subplots.AxesSubplot at 0x7f5a4607c390>"
      ]
     },
     "execution_count": 44,
     "metadata": {},
     "output_type": "execute_result"
    },
    {
     "name": "stderr",
     "output_type": "stream",
     "text": [
      " /m/home/home2/27/holopaj7/unix/Envs/CS-Major/lib/python3.5/site-packages/matplotlib/figure.py:2267: UserWarning:This figure includes Axes that are not compatible with tight_layout, so results might be incorrect.\n"
     ]
    },
    {
     "data": {
      "image/png": "[encoded data removed]",
      "text/plain": [
       "<Figure size 1080x432 with 2 Axes>"
      ]
     },
     "metadata": {},
     "output_type": "display_data"
    }
   ],
   "source": [
    "figure, axes = plt.subplots(1,2, figsize=(15,6), tight_layout=True)\n",
    "k=GPy.kern.PeriodicExponential(input_dim=1,variance=249752,lengthscale=3193965,period=7)\n",
    "k.plot(ax=axes[0])\n",
    "z=GPy.kern.PeriodicExponential(input_dim=1)\n",
    "z.plot(ax=axes[1])"
   ]
  },
  {
   "cell_type": "code",
   "execution_count": 48,
   "metadata": {
    "scrolled": false
   },
   "outputs": [
    {
     "name": "stderr",
     "output_type": "stream",
     "text": [
      " /m/home/home2/27/holopaj7/unix/Envs/CS-Major/lib/python3.5/site-packages/paramz/transformations.py:111: RuntimeWarning:overflow encountered in expm1\n"
     ]
    },
    {
     "data": {
      "text/html": [
       "<style type=\"text/css\">\n",
       ".pd{\n",
       "    font-family: \"Courier New\", Courier, monospace !important;\n",
       "    width: 100%;\n",
       "    padding: 3px;\n",
       "}\n",
       "</style>\n",
       "\n",
       "<p class=pd>\n",
       "<b>Model</b>: GP regression<br>\n",
       "<b>Objective</b>: 2433.6994887722185<br>\n",
       "<b>Number of Parameters</b>: 4<br>\n",
       "<b>Number of Optimization Parameters</b>: 4<br>\n",
       "<b>Updates</b>: True<br>\n",
       "</p>\n",
       "<style type=\"text/css\">\n",
       ".tg  {font-family:\"Courier New\", Courier, monospace !important;padding:2px 3px;word-break:normal;border-collapse:collapse;border-spacing:0;border-color:#DCDCDC;margin:0px auto;width:100%;}\n",
       ".tg td{font-family:\"Courier New\", Courier, monospace !important;font-weight:bold;color:#444;background-color:#F7FDFA;border-style:solid;border-width:1px;overflow:hidden;word-break:normal;border-color:#DCDCDC;}\n",
       ".tg th{font-family:\"Courier New\", Courier, monospace !important;font-weight:normal;color:#fff;background-color:#26ADE4;border-style:solid;border-width:1px;overflow:hidden;word-break:normal;border-color:#DCDCDC;}\n",
       ".tg .tg-left{font-family:\"Courier New\", Courier, monospace !important;font-weight:normal;text-align:left;}\n",
       ".tg .tg-center{font-family:\"Courier New\", Courier, monospace !important;font-weight:normal;text-align:center;}\n",
       ".tg .tg-right{font-family:\"Courier New\", Courier, monospace !important;font-weight:normal;text-align:right;}\n",
       "</style>\n",
       "<table class=\"tg\"><tr><th><b>  GP_regression.         </b></th><th><b>             value</b></th><th><b>constraints</b></th><th><b>priors</b></th></tr>\n",
       "<tr><td class=tg-left>  sum.rbf.variance       </td><td class=tg-right>2800268.5129285958</td><td class=tg-center>    +ve    </td><td class=tg-center>      </td></tr>\n",
       "<tr><td class=tg-left>  sum.rbf.lengthscale    </td><td class=tg-right> 5520.934083135889</td><td class=tg-center>    +ve    </td><td class=tg-center>      </td></tr>\n",
       "<tr><td class=tg-left>  sum.bias.variance      </td><td class=tg-right> 2798240.709473444</td><td class=tg-center>    +ve    </td><td class=tg-center>      </td></tr>\n",
       "<tr><td class=tg-left>  Gaussian_noise.variance</td><td class=tg-right> 9786482.553282049</td><td class=tg-center>    +ve    </td><td class=tg-center>      </td></tr>\n",
       "</table>"
      ],
      "text/plain": [
       "<GPy.models.gp_regression.GPRegression at 0x7f5a45f814a8>"
      ]
     },
     "metadata": {},
     "output_type": "display_data"
    },
    {
     "data": {
      "text/plain": [
       "<matplotlib.axes._subplots.AxesSubplot at 0x7f5a45f6b390>"
      ]
     },
     "execution_count": 48,
     "metadata": {},
     "output_type": "execute_result"
    },
    {
     "name": "stderr",
     "output_type": "stream",
     "text": [
      " /m/home/home2/27/holopaj7/unix/Envs/CS-Major/lib/python3.5/site-packages/matplotlib/figure.py:2267: UserWarning:This figure includes Axes that are not compatible with tight_layout, so results might be incorrect.\n"
     ]
    },
    {
     "data": {
      "image/png": "[encoded data removed]",
      "text/plain": [
       "<Figure size 432x288 with 1 Axes>"
      ]
     },
     "metadata": {},
     "output_type": "display_data"
    }
   ],
   "source": [
    "#Janne's cool stuff\n",
    "# http://www.cs.toronto.edu/~duvenaud/cookbook/                                                            Affects of addition and multiplication of kernels\n",
    "# http://nbviewer.jupyter.org/github/SheffieldML/notebook/blob/master/GPy/basic_kernels.ipynb              Lecture link: Kernel overview\n",
    "# http://nbviewer.jupyter.org/github/SheffieldML/notebook/blob/master/GPy/basic_gp.ipynb                   Lecture link: GP Regression tutorial\n",
    "\n",
    "\n",
    "\n",
    "RBF = GPy.kern.RBF(input_dim=1, variance=2000., lengthscale=20.)\n",
    "RBF2 = GPy.kern.RBF(input_dim=1, variance=20000., lengthscale=20.)\n",
    "PERIODIC = GPy.kern.PeriodicMatern52(input_dim=1, variance=8000, lengthscale=0.5, period=7)\n",
    "EXP_PER = GPy.kern.PeriodicExponential(input_dim=1, variance=2500, lengthscale=20, period=7)\n",
    "EXP_PER.period.fix()\n",
    "LIN = GPy.kern.Linear(1, variances=55000)\n",
    "BIAS = GPy.kern.Bias(input_dim=1, variance=2)\n",
    "BIAS2 = GPy.kern.Bias(input_dim=1, variance=35)\n",
    "BIAS3 = GPy.kern.Bias(input_dim=1, variance=35)\n",
    "LIN_BIAS = GPy.kern.Bias(input_dim=1, variance=350000)\n",
    "EXP = GPy.kern.Exponential(1)\n",
    "\n",
    "RBF_PER = RBF+BIAS# + EXP_PER\n",
    "LIN_BIAS = LIN + LIN_BIAS\n",
    "RBF_BIAS = RBF2 + BIAS2\n",
    "EXP = EXP + LIN + BIAS3\n",
    "\n",
    "m = GPy.models.GPRegression(X, Y, RBF_PER)\n",
    "m.optimize()\n",
    "display(m)\n",
    "\n",
    "m.plot()"
   ]
  },
  {
   "cell_type": "markdown",
   "metadata": {},
   "source": [
    "## NOTES\n",
    "\n",
    "#### Possible problems\n",
    "* GP Assumes that the observations come from Gaussian process, do we satisfy this?\n",
    "    * * \"The assumption that our observations came from a Gaussian process is a very strong assumption\" https://blog.sigopt.com/posts/intuition-behind-gaussian-processes\n",
    "* The toy dataset did not work, with periodic kernel :s\n",
    "\n",
    "#### Approaches\n",
    "* Data by weekday\n",
    "* ~~Two dimensional. Weekday + weeknumber?~~\n",
    "    * * Periodic kernel defined only for 1dim"
   ]
  },
  {
   "cell_type": "code",
   "execution_count": 108,
   "metadata": {},
   "outputs": [
    {
     "data": {
      "text/html": [
       "<style type=\"text/css\">\n",
       ".pd{\n",
       "    font-family: \"Courier New\", Courier, monospace !important;\n",
       "    width: 100%;\n",
       "    padding: 3px;\n",
       "}\n",
       "</style>\n",
       "\n",
       "<p class=pd>\n",
       "<b>Model</b>: GP regression<br>\n",
       "<b>Objective</b>: 2899.6851182604914<br>\n",
       "<b>Number of Parameters</b>: 7<br>\n",
       "<b>Number of Optimization Parameters</b>: 6<br>\n",
       "<b>Updates</b>: True<br>\n",
       "</p>\n",
       "<style type=\"text/css\">\n",
       ".tg  {font-family:\"Courier New\", Courier, monospace !important;padding:2px 3px;word-break:normal;border-collapse:collapse;border-spacing:0;border-color:#DCDCDC;margin:0px auto;width:100%;}\n",
       ".tg td{font-family:\"Courier New\", Courier, monospace !important;font-weight:bold;color:#444;background-color:#F7FDFA;border-style:solid;border-width:1px;overflow:hidden;word-break:normal;border-color:#DCDCDC;}\n",
       ".tg th{font-family:\"Courier New\", Courier, monospace !important;font-weight:normal;color:#fff;background-color:#26ADE4;border-style:solid;border-width:1px;overflow:hidden;word-break:normal;border-color:#DCDCDC;}\n",
       ".tg .tg-left{font-family:\"Courier New\", Courier, monospace !important;font-weight:normal;text-align:left;}\n",
       ".tg .tg-center{font-family:\"Courier New\", Courier, monospace !important;font-weight:normal;text-align:center;}\n",
       ".tg .tg-right{font-family:\"Courier New\", Courier, monospace !important;font-weight:normal;text-align:right;}\n",
       "</style>\n",
       "<table class=\"tg\"><tr><th><b>  GP_regression.                      </b></th><th><b>             value</b></th><th><b>constraints</b></th><th><b>priors</b></th></tr>\n",
       "<tr><td class=tg-left>  sum.mul.rbf.variance                </td><td class=tg-right>200072.61646316457</td><td class=tg-center>    +ve    </td><td class=tg-center>      </td></tr>\n",
       "<tr><td class=tg-left>  sum.mul.rbf.lengthscale             </td><td class=tg-right>10.754982503053165</td><td class=tg-center>    +ve    </td><td class=tg-center>      </td></tr>\n",
       "<tr><td class=tg-left>  sum.mul.bias.variance               </td><td class=tg-right>164.33947886078803</td><td class=tg-center>    +ve    </td><td class=tg-center>      </td></tr>\n",
       "<tr><td class=tg-left>  sum.periodic_exponential.variance   </td><td class=tg-right>249752.93752744162</td><td class=tg-center>    +ve    </td><td class=tg-center>      </td></tr>\n",
       "<tr><td class=tg-left>  sum.periodic_exponential.lengthscale</td><td class=tg-right>3193965.5971837286</td><td class=tg-center>    +ve    </td><td class=tg-center>      </td></tr>\n",
       "<tr><td class=tg-left>  sum.periodic_exponential.period     </td><td class=tg-right>               7.0</td><td class=tg-center> fixed +ve </td><td class=tg-center>      </td></tr>\n",
       "<tr><td class=tg-left>  Gaussian_noise.variance             </td><td class=tg-right> 277209.0946487546</td><td class=tg-center>    +ve    </td><td class=tg-center>      </td></tr>\n",
       "</table>"
      ],
      "text/plain": [
       "<GPy.models.gp_regression.GPRegression at 0x7f003b548da0>"
      ]
     },
     "execution_count": 108,
     "metadata": {},
     "output_type": "execute_result"
    }
   ],
   "source": [
    "m"
   ]
  },
  {
   "cell_type": "code",
   "execution_count": 112,
   "metadata": {},
   "outputs": [
    {
     "data": {
      "text/plain": [
       "<bound method GP.parameters_changed of <GPy.models.gp_regression.GPRegression object at 0x7f003b548da0>>"
      ]
     },
     "execution_count": 112,
     "metadata": {},
     "output_type": "execute_result"
    }
   ],
   "source": [
    "m.parameters_changed"
   ]
  },
  {
   "cell_type": "code",
   "execution_count": 23,
   "metadata": {
    "colab": {
     "autoexec": {
      "startup": false,
      "wait_interval": 0
     }
    },
    "colab_type": "code",
    "id": "QZSmmJ5ai6c8"
   },
   "outputs": [
    {
     "name": "stderr",
     "output_type": "stream",
     "text": [
      " /m/home/home2/27/holopaj7/unix/Envs/CS-Major/lib/python3.5/site-packages/paramz/transformations.py:111: RuntimeWarning:overflow encountered in expm1\n"
     ]
    },
    {
     "data": {
      "text/html": [
       "<style type=\"text/css\">\n",
       ".pd{\n",
       "    font-family: \"Courier New\", Courier, monospace !important;\n",
       "    width: 100%;\n",
       "    padding: 3px;\n",
       "}\n",
       "</style>\n",
       "\n",
       "<p class=pd>\n",
       "<b>Model</b>: GP regression<br>\n",
       "<b>Objective</b>: 10274.352872855618<br>\n",
       "<b>Number of Parameters</b>: 7<br>\n",
       "<b>Number of Optimization Parameters</b>: 6<br>\n",
       "<b>Updates</b>: True<br>\n",
       "</p>\n",
       "<style type=\"text/css\">\n",
       ".tg  {font-family:\"Courier New\", Courier, monospace !important;padding:2px 3px;word-break:normal;border-collapse:collapse;border-spacing:0;border-color:#DCDCDC;margin:0px auto;width:100%;}\n",
       ".tg td{font-family:\"Courier New\", Courier, monospace !important;font-weight:bold;color:#444;background-color:#F7FDFA;border-style:solid;border-width:1px;overflow:hidden;word-break:normal;border-color:#DCDCDC;}\n",
       ".tg th{font-family:\"Courier New\", Courier, monospace !important;font-weight:normal;color:#fff;background-color:#26ADE4;border-style:solid;border-width:1px;overflow:hidden;word-break:normal;border-color:#DCDCDC;}\n",
       ".tg .tg-left{font-family:\"Courier New\", Courier, monospace !important;font-weight:normal;text-align:left;}\n",
       ".tg .tg-center{font-family:\"Courier New\", Courier, monospace !important;font-weight:normal;text-align:center;}\n",
       ".tg .tg-right{font-family:\"Courier New\", Courier, monospace !important;font-weight:normal;text-align:right;}\n",
       "</style>\n",
       "<table class=\"tg\"><tr><th><b>  GP_regression.                      </b></th><th><b>              value</b></th><th><b>constraints</b></th><th><b>priors</b></th></tr>\n",
       "<tr><td class=tg-left>  sum.mul.rbf.variance                </td><td class=tg-right> 199999.99893412954</td><td class=tg-center>    +ve    </td><td class=tg-center>      </td></tr>\n",
       "<tr><td class=tg-left>  sum.mul.rbf.lengthscale             </td><td class=tg-right> 7.3590623628976335</td><td class=tg-center>    +ve    </td><td class=tg-center>      </td></tr>\n",
       "<tr><td class=tg-left>  sum.mul.bias.variance               </td><td class=tg-right> 0.1535302186965662</td><td class=tg-center>    +ve    </td><td class=tg-center>      </td></tr>\n",
       "<tr><td class=tg-left>  sum.periodic_exponential.variance   </td><td class=tg-right> 250000.00092820392</td><td class=tg-center>    +ve    </td><td class=tg-center>      </td></tr>\n",
       "<tr><td class=tg-left>  sum.periodic_exponential.lengthscale</td><td class=tg-right>0.08587486017066762</td><td class=tg-center>    +ve    </td><td class=tg-center>      </td></tr>\n",
       "<tr><td class=tg-left>  sum.periodic_exponential.period     </td><td class=tg-right>                7.0</td><td class=tg-center> fixed +ve </td><td class=tg-center>      </td></tr>\n",
       "<tr><td class=tg-left>  Gaussian_noise.variance             </td><td class=tg-right> 187.96776214758873</td><td class=tg-center>    +ve    </td><td class=tg-center>      </td></tr>\n",
       "</table>"
      ],
      "text/plain": [
       "<GPy.models.gp_regression.GPRegression at 0x7f5a46724160>"
      ]
     },
     "metadata": {},
     "output_type": "display_data"
    },
    {
     "name": "stdout",
     "output_type": "stream",
     "text": [
      "(array([[4.93921272]]), array([[220.78079299]]))\n"
     ]
    },
    {
     "name": "stderr",
     "output_type": "stream",
     "text": [
      " /m/home/home2/27/holopaj7/unix/Envs/CS-Major/lib/python3.5/site-packages/matplotlib/figure.py:2267: UserWarning:This figure includes Axes that are not compatible with tight_layout, so results might be incorrect.\n"
     ]
    },
    {
     "data": {
      "image/png": "[encoded data removed]",
      "text/plain": [
       "<Figure size 432x288 with 1 Axes>"
      ]
     },
     "metadata": {},
     "output_type": "display_data"
    }
   ],
   "source": [
    "#Tinka's cool stuff\n",
    "# http://www.cs.toronto.edu/~duvenaud/cookbook/                                                            Affects of addition and multiplication of kernels\n",
    "# http://nbviewer.jupyter.org/github/SheffieldML/notebook/blob/master/GPy/basic_kernels.ipynb              Lecture link: Kernel overview\n",
    "# http://nbviewer.jupyter.org/github/SheffieldML/notebook/blob/master/GPy/basic_gp.ipynb                   Lecture link: GP Regression tutorial\n",
    "\n",
    "RBF = GPy.kern.RBF(input_dim=1, variance=200000., lengthscale=20.)\n",
    "RBF2 = GPy.kern.RBF(input_dim=1, variance=20000., lengthscale=20.)\n",
    "PERIODIC = GPy.kern.PeriodicMatern52(input_dim=1, variance=8000, lengthscale=0.5, period=7)\n",
    "EXP_PER = GPy.kern.PeriodicExponential(input_dim=1, variance=250000, lengthscale=20, period=7)\n",
    "EXP_PER.period.fix() #if you don' t keep this fixed, it finds a period of 5.3\n",
    "LIN = GPy.kern.Linear(1, variances=55000)\n",
    "BIAS = GPy.kern.Bias(input_dim=1, variance=2)\n",
    "BIAS2 = GPy.kern.Bias(input_dim=1, variance=35)\n",
    "BIAS3 = GPy.kern.Bias(input_dim=1, variance=35)\n",
    "LIN_BIAS = GPy.kern.Bias(input_dim=1, variance=350000)\n",
    "EXP = GPy.kern.Exponential(1)\n",
    "\n",
    "RBF_PER = RBF*BIAS + EXP_PER\n",
    "LIN_BIAS = LIN + LIN_BIAS\n",
    "RBF_BIAS = RBF2 + BIAS2\n",
    "EXP = EXP + LIN + BIAS3\n",
    "\n",
    "m = GPy.models.GPRegression(X_train, Y_train, RBF_PER)\n",
    "m.optimize()\n",
    "display(m)\n",
    "\n",
    "m.plot()\n",
    "plt.scatter(X_test,Y_test,c='r',marker='.',label='Test data')\n",
    "plt.legend()\n",
    "\n",
    "print(m.predict(np.array([450]).reshape(-1, 1)))"
   ]
  },
  {
   "cell_type": "code",
   "execution_count": 28,
   "metadata": {
    "scrolled": false
   },
   "outputs": [
    {
     "name": "stderr",
     "output_type": "stream",
     "text": [
      " /m/home/home2/27/holopaj7/unix/Envs/CS-Major/lib/python3.5/site-packages/paramz/transformations.py:111: RuntimeWarning:overflow encountered in expm1\n"
     ]
    },
    {
     "data": {
      "text/html": [
       "<style type=\"text/css\">\n",
       ".pd{\n",
       "    font-family: \"Courier New\", Courier, monospace !important;\n",
       "    width: 100%;\n",
       "    padding: 3px;\n",
       "}\n",
       "</style>\n",
       "\n",
       "<p class=pd>\n",
       "<b>Model</b>: GP regression<br>\n",
       "<b>Objective</b>: 3313.537005306174<br>\n",
       "<b>Number of Parameters</b>: 6<br>\n",
       "<b>Number of Optimization Parameters</b>: 6<br>\n",
       "<b>Updates</b>: True<br>\n",
       "</p>\n",
       "<style type=\"text/css\">\n",
       ".tg  {font-family:\"Courier New\", Courier, monospace !important;padding:2px 3px;word-break:normal;border-collapse:collapse;border-spacing:0;border-color:#DCDCDC;margin:0px auto;width:100%;}\n",
       ".tg td{font-family:\"Courier New\", Courier, monospace !important;font-weight:bold;color:#444;background-color:#F7FDFA;border-style:solid;border-width:1px;overflow:hidden;word-break:normal;border-color:#DCDCDC;}\n",
       ".tg th{font-family:\"Courier New\", Courier, monospace !important;font-weight:normal;color:#fff;background-color:#26ADE4;border-style:solid;border-width:1px;overflow:hidden;word-break:normal;border-color:#DCDCDC;}\n",
       ".tg .tg-left{font-family:\"Courier New\", Courier, monospace !important;font-weight:normal;text-align:left;}\n",
       ".tg .tg-center{font-family:\"Courier New\", Courier, monospace !important;font-weight:normal;text-align:center;}\n",
       ".tg .tg-right{font-family:\"Courier New\", Courier, monospace !important;font-weight:normal;text-align:right;}\n",
       "</style>\n",
       "<table class=\"tg\"><tr><th><b>  GP_regression.                      </b></th><th><b>               value</b></th><th><b>constraints</b></th><th><b>priors</b></th></tr>\n",
       "<tr><td class=tg-left>  sum.rbf.variance                    </td><td class=tg-right>  0.2683702779582809</td><td class=tg-center>    +ve    </td><td class=tg-center>      </td></tr>\n",
       "<tr><td class=tg-left>  sum.rbf.lengthscale                 </td><td class=tg-right>0.020040833663260822</td><td class=tg-center>    +ve    </td><td class=tg-center>      </td></tr>\n",
       "<tr><td class=tg-left>  sum.periodic_exponential.variance   </td><td class=tg-right> 0.01743660565986532</td><td class=tg-center>    +ve    </td><td class=tg-center>      </td></tr>\n",
       "<tr><td class=tg-left>  sum.periodic_exponential.lengthscale</td><td class=tg-right>  3.5021863569623126</td><td class=tg-center>    +ve    </td><td class=tg-center>      </td></tr>\n",
       "<tr><td class=tg-left>  sum.periodic_exponential.period     </td><td class=tg-right>   8.718855338109133</td><td class=tg-center>    +ve    </td><td class=tg-center>      </td></tr>\n",
       "<tr><td class=tg-left>  Gaussian_noise.variance             </td><td class=tg-right>  0.8138690868704287</td><td class=tg-center>    +ve    </td><td class=tg-center>      </td></tr>\n",
       "</table>"
      ],
      "text/plain": [
       "<GPy.models.gp_regression.GPRegression at 0x7f5a46525518>"
      ]
     },
     "metadata": {},
     "output_type": "display_data"
    },
    {
     "name": "stdout",
     "output_type": "stream",
     "text": [
      "(array([[-0.15506666]]), array([[1.01697463]]))\n"
     ]
    },
    {
     "name": "stderr",
     "output_type": "stream",
     "text": [
      " /m/home/home2/27/holopaj7/unix/Envs/CS-Major/lib/python3.5/site-packages/matplotlib/figure.py:2267: UserWarning:This figure includes Axes that are not compatible with tight_layout, so results might be incorrect.\n"
     ]
    },
    {
     "data": {
      "image/png": "[encoded data removed]",
      "text/plain": [
       "<Figure size 432x288 with 1 Axes>"
      ]
     },
     "metadata": {},
     "output_type": "display_data"
    }
   ],
   "source": [
    "RBF = GPy.kern.RBF(input_dim=1)\n",
    "RBF2 = GPy.kern.RBF(input_dim=1,lengthscale=20.)\n",
    "PERIODIC = GPy.kern.PeriodicMatern52(input_dim=1)\n",
    "EXP_PER = GPy.kern.PeriodicExponential(input_dim=1)\n",
    "#EXP_PER.period.fix() #if you don' t keep this fixed, it finds a period of 5.3\n",
    "LIN = GPy.kern.Linear(1)\n",
    "BIAS = GPy.kern.Bias(input_dim=1, variance=2)\n",
    "BIAS2 = GPy.kern.Bias(input_dim=1, variance=35)\n",
    "BIAS3 = GPy.kern.Bias(input_dim=1, variance=35)\n",
    "LIN_BIAS = GPy.kern.Bias(input_dim=1, variance=350000)\n",
    "EXP = GPy.kern.Exponential(1)\n",
    "\n",
    "RBF_PER = RBF+ EXP_PER\n",
    "LIN_BIAS = LIN + LIN_BIAS\n",
    "RBF_BIAS = RBF2 + BIAS2\n",
    "EXP = EXP + LIN + BIAS3\n",
    "\n",
    "m = GPy.models.GPRegression(Xc_train, Yc_train, RBF_PER)\n",
    "m.optimize()\n",
    "display(m)\n",
    "\n",
    "m.plot()\n",
    "plt.scatter(Xc_test,Yc_test,c='r',marker='.',label='Test data')\n",
    "#plt.plot(X[1:],Yc[1:])\n",
    "plt.legend()\n",
    "\n",
    "print(m.predict(np.array([450]).reshape(-1, 1)))"
   ]
  },
  {
   "cell_type": "code",
   "execution_count": 25,
   "metadata": {},
   "outputs": [],
   "source": [
    "#tried normalizing it, but doesn't really seem to mater for current model\n",
    "Y_norm=scale(Y)"
   ]
  },
  {
   "cell_type": "code",
   "execution_count": 26,
   "metadata": {},
   "outputs": [],
   "source": [
    "Yc=np.array(df[\"Change\"][1:]).reshape(-1,1)\n",
    "Yc=scale(Yc)\n",
    "Yc_train=Yc[:split_ind]\n",
    "Yc_test=Yc[split_ind:]\n",
    "Xc=X[1:]\n",
    "Xc_train=Xc[:split_ind]\n",
    "Xc_test=Xc[split_ind:]"
   ]
  },
  {
   "cell_type": "code",
   "execution_count": 27,
   "metadata": {},
   "outputs": [],
   "source": [
    "## RANDOM SEARCH FOR THE OPTIMAL PARAMETERS?"
   ]
  },
  {
   "cell_type": "code",
   "execution_count": null,
   "metadata": {},
   "outputs": [],
   "source": []
  }
 ],
 "metadata": {
  "colab": {
   "default_view": {},
   "name": "bitcoin_analysis.ipynb",
   "provenance": [],
   "version": "0.3.2",
   "views": {}
  },
  "kernelspec": {
   "display_name": "Python 3",
   "language": "python",
   "name": "python3"
  },
  "language_info": {
   "codemirror_mode": {
    "name": "ipython",
    "version": 3
   },
   "file_extension": ".py",
   "mimetype": "text/x-python",
   "name": "python",
   "nbconvert_exporter": "python",
   "pygments_lexer": "ipython3",
   "version": "3.5.2"
  }
 },
 "nbformat": 4,
 "nbformat_minor": 1
}
